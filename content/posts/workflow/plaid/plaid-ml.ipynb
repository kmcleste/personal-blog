{
  "cells": [
    {
      "cell_type": "raw",
      "metadata": {},
      "source": [
        "---\n",
        "title: PlaidML\n",
        "date: '2022-04-08'\n",
        "author: Kyle McLester\n",
        "summary: Train machine learning models on non-Nvidia GPU's\n",
        "format: hugo\n",
        "freeze: auto\n",
        "---"
      ],
      "id": "e573dd0f"
    },
    {
      "cell_type": "markdown",
      "metadata": {},
      "source": [
        "PlaidML allows you to leverage your systems discrete graphics card for training machine learning models -- even if you don't have an NVIDIA gpu.\n",
        "\n",
        "## Installation\n",
        "\n",
        "To install PlaidML and Keras, run the following:\n",
        "\n",
        "```bash\n",
        "python3 -m pip install -U plaidml-keras\n",
        "```\n",
        "\n",
        "Setup PlaidML to use your preferred computing device:\n",
        "\n",
        "```bash\n",
        "plaidml-setup\n",
        "```\n",
        "\n",
        "You will then be prompted the following items:\n",
        "\n",
        "1. Enable Experimental Support\n",
        "2. Choose Default Device\n",
        "3. Save Settings to Path\n",
        "\n",
        "Below is the expected output -- yours may look different as it depends on your system configuration:\n",
        "\n",
        "![Plaid ML Setup](/posts/workflow/plaid/plaid-setup.png)\n",
        "\n",
        "Full documentation can be [found here](https://plaidml.github.io/plaidml/docs/install)\n",
        "\n",
        "## Run Initial Benchmark (opt)\n",
        "\n",
        "Install and run the benchmark with the following:\n",
        "\n",
        "```bash\n",
        "python3 -m pip install plaidml-keras plaidbench\n",
        "plaidbench keras resnet50\n",
        "```\n",
        "\n",
        "## Using PlaidML\n",
        "\n",
        "The only difference to your workflow when using PlaidML, is that you must set your keras backend environment variable to use PlaidML. Something to also keep in mind is that you must use pure keras -- you lose tensorflow command access with this method.\n",
        "\n",
        "In your import statements, you must set the enivronment variable:"
      ],
      "id": "2cc12e7a"
    },
    {
      "cell_type": "code",
      "metadata": {},
      "source": [
        "import os\n",
        "import time\n",
        "import numpy as np\n",
        "\n",
        "os.environ[\"KERAS_BACKEND\"] = \"plaidml.keras.backend\"\n",
        "\n",
        "import keras\n",
        "import keras.applications as kapp\n",
        "from keras.datasets import cifar10"
      ],
      "id": "74ef5216",
      "execution_count": null,
      "outputs": []
    },
    {
      "cell_type": "markdown",
      "metadata": {},
      "source": [
        "The following uses the [VGG-19 convolutional neural network](https://www.mathworks.com/help/deeplearning/ref/vgg19.html;jsessionid=b1c3289ab6ea0b8df0edbaf1846e). It is 19 layers deep and trained on more than 1 million images. The primary purpose of this model is for image classification. This code times how long it takes to classify 10 images."
      ],
      "id": "35a97834"
    },
    {
      "cell_type": "code",
      "metadata": {},
      "source": [
        "(x_train, y_train_cats), (x_test, y_test_cats) = cifar10.load_data()\n",
        "batch_size = 8\n",
        "x_train = x_train[:batch_size]\n",
        "x_train = np.repeat(np.repeat(x_train, 7, axis=1), 7, axis=2)\n",
        "model = kapp.VGG19()\n",
        "model.compile(optimizer='sgd', loss='categorical_crossentropy',\n",
        "              metrics=['accuracy'])\n",
        "\n",
        "print(\"Running initial batch (compiling tile program)\")\n",
        "y = model.predict(x=x_train, batch_size=batch_size)\n",
        "\n",
        "# Now start the clock and run 10 batches\n",
        "print(\"Timing inference...\")\n",
        "start = time.time()\n",
        "for i in range(10):\n",
        "    y = model.predict(x=x_train, batch_size=batch_size)\n",
        "print(\"Ran in {} seconds\".format(time.time() - start))"
      ],
      "id": "e98dadd6",
      "execution_count": null,
      "outputs": []
    }
  ],
  "metadata": {
    "kernelspec": {
      "name": "python3",
      "language": "python",
      "display_name": "Python 3 (ipykernel)"
    }
  },
  "nbformat": 4,
  "nbformat_minor": 5
}